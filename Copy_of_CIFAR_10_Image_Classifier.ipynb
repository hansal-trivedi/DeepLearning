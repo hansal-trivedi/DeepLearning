{
  "nbformat": 4,
  "nbformat_minor": 0,
  "metadata": {
    "colab": {
      "name": "Copy of CIFAR_10_Image_Classifier.ipynb",
      "provenance": [],
      "collapsed_sections": [],
      "include_colab_link": true
    },
    "kernelspec": {
      "name": "python3",
      "display_name": "Python 3"
    },
    "accelerator": "GPU"
  },
  "cells": [
    {
      "cell_type": "markdown",
      "metadata": {
        "id": "view-in-github",
        "colab_type": "text"
      },
      "source": [
        "<a href=\"https://colab.research.google.com/github/hansal-trivedi/DeepLearning/blob/Hansal/Copy_of_CIFAR_10_Image_Classifier.ipynb\" target=\"_parent\"><img src=\"https://colab.research.google.com/assets/colab-badge.svg\" alt=\"Open In Colab\"/></a>"
      ]
    },
    {
      "cell_type": "code",
      "metadata": {
        "id": "DItw-Vd2qvDs"
      },
      "source": [
        "import tensorflow as tf\r\n",
        "import tensorflow_datasets as tfds\r\n",
        "import numpy as np\r\n",
        "import matplotlib.pyplot as plt\r\n",
        "import seaborn as sns\r\n",
        "import os\r\n",
        "from sklearn.model_selection import train_test_split\r\n",
        "\r\n",
        "from tensorflow.keras import models, layers\r\n",
        "from sklearn.metrics import accuracy_score"
      ],
      "execution_count": 1,
      "outputs": []
    },
    {
      "cell_type": "code",
      "metadata": {
        "colab": {
          "base_uri": "https://localhost:8080/"
        },
        "id": "O4r1kR8js4Fn",
        "outputId": "75851d55-bab8-4783-cfa8-9c9697453075"
      },
      "source": [
        "!wget https://www.cs.toronto.edu/~kriz/cifar-10-python.tar.gz"
      ],
      "execution_count": 2,
      "outputs": [
        {
          "output_type": "stream",
          "text": [
            "--2021-02-18 05:57:52--  https://www.cs.toronto.edu/~kriz/cifar-10-python.tar.gz\n",
            "Resolving www.cs.toronto.edu (www.cs.toronto.edu)... 128.100.3.30\n",
            "Connecting to www.cs.toronto.edu (www.cs.toronto.edu)|128.100.3.30|:443... connected.\n",
            "HTTP request sent, awaiting response... 200 OK\n",
            "Length: 170498071 (163M) [application/x-gzip]\n",
            "Saving to: ‘cifar-10-python.tar.gz’\n",
            "\n",
            "cifar-10-python.tar 100%[===================>] 162.60M  50.9MB/s    in 3.6s    \n",
            "\n",
            "2021-02-18 05:57:56 (45.7 MB/s) - ‘cifar-10-python.tar.gz’ saved [170498071/170498071]\n",
            "\n"
          ],
          "name": "stdout"
        }
      ]
    },
    {
      "cell_type": "code",
      "metadata": {
        "id": "l1pyQL-1vsJc"
      },
      "source": [
        "!mkdir ./cifar_10/\r\n",
        "!tar -xf cifar-10-python.tar.gz -C ./cifar_10/\r\n",
        "!rm -rf cifar-10-python.tar.gz"
      ],
      "execution_count": 3,
      "outputs": []
    },
    {
      "cell_type": "code",
      "metadata": {
        "colab": {
          "base_uri": "https://localhost:8080/"
        },
        "id": "jC7BdyRFwq3s",
        "outputId": "cecd4866-e878-4fbb-8165-6e5a6f0efda2"
      },
      "source": [
        "!ls -l ./cifar_10/cifar-10-batches-py/"
      ],
      "execution_count": 4,
      "outputs": [
        {
          "output_type": "stream",
          "text": [
            "total 181876\n",
            "-rw-r--r-- 1 2156 1103      158 Mar 31  2009 batches.meta\n",
            "-rw-r--r-- 1 2156 1103 31035704 Mar 31  2009 data_batch_1\n",
            "-rw-r--r-- 1 2156 1103 31035320 Mar 31  2009 data_batch_2\n",
            "-rw-r--r-- 1 2156 1103 31035999 Mar 31  2009 data_batch_3\n",
            "-rw-r--r-- 1 2156 1103 31035696 Mar 31  2009 data_batch_4\n",
            "-rw-r--r-- 1 2156 1103 31035623 Mar 31  2009 data_batch_5\n",
            "-rw-r--r-- 1 2156 1103       88 Jun  4  2009 readme.html\n",
            "-rw-r--r-- 1 2156 1103 31035526 Mar 31  2009 test_batch\n"
          ],
          "name": "stdout"
        }
      ]
    },
    {
      "cell_type": "code",
      "metadata": {
        "id": "KHdHegNBwU-G"
      },
      "source": [
        "workdir = os.curdir\r\n",
        "datadir = os.path.join(workdir,'cifar_10','cifar-10-batches-py')\r\n",
        "train_files = [os.path.join(datadir,f'data_batch_{i}') for i in range(1,6)]\r\n",
        "test_file = 'test_batch'"
      ],
      "execution_count": 5,
      "outputs": []
    },
    {
      "cell_type": "code",
      "metadata": {
        "id": "kpZnA1gJxZvk"
      },
      "source": [
        "# unpickle the data file containing the image\r\n",
        "def unpickle(file):\r\n",
        "    import pickle\r\n",
        "    with open(file, 'rb') as fo:\r\n",
        "        dict = pickle.load(fo, encoding='bytes')\r\n",
        "    return dict"
      ],
      "execution_count": 6,
      "outputs": []
    },
    {
      "cell_type": "code",
      "metadata": {
        "colab": {
          "base_uri": "https://localhost:8080/"
        },
        "id": "GSbBhdKMxjbV",
        "outputId": "06a303b6-4ec3-41d3-eddb-82382a60b202"
      },
      "source": [
        "data_dict = unpickle(train_files[0])\r\n",
        "data_dict.keys()"
      ],
      "execution_count": 7,
      "outputs": [
        {
          "output_type": "execute_result",
          "data": {
            "text/plain": [
              "dict_keys([b'batch_label', b'labels', b'data', b'filenames'])"
            ]
          },
          "metadata": {
            "tags": []
          },
          "execution_count": 7
        }
      ]
    },
    {
      "cell_type": "code",
      "metadata": {
        "colab": {
          "base_uri": "https://localhost:8080/"
        },
        "id": "7qNTQodt57Q8",
        "outputId": "3643f0d4-78a4-4732-f349-4d58339e8b1e"
      },
      "source": [
        "# read all files into a dataset\r\n",
        "data = np.empty(data_dict[b'data'].shape)\r\n",
        "labels = list()\r\n",
        "for fl in train_files:\r\n",
        "  print(f\"Loading File {fl}\")\r\n",
        "  df = unpickle(fl)\r\n",
        "  print(df[b'batch_label'])\r\n",
        "  print(f\"Geting Data\")\r\n",
        "  if df[b'batch_label'] == b'training batch 1 of 5':\r\n",
        "    data = df[b'data']\r\n",
        "  else:\r\n",
        "    data = np.concatenate([data,df[b'data']])\r\n",
        "  print(\"Geting labels\")\r\n",
        "  labels = labels + df[b'labels']\r\n",
        "  print(f\"Shape of Data is {data.shape}\")\r\n",
        "  print(\"=\"*50)"
      ],
      "execution_count": 8,
      "outputs": [
        {
          "output_type": "stream",
          "text": [
            "Loading File ./cifar_10/cifar-10-batches-py/data_batch_1\n",
            "b'training batch 1 of 5'\n",
            "Geting Data\n",
            "Geting labels\n",
            "Shape of Data is (10000, 3072)\n",
            "==================================================\n",
            "Loading File ./cifar_10/cifar-10-batches-py/data_batch_2\n",
            "b'training batch 2 of 5'\n",
            "Geting Data\n",
            "Geting labels\n",
            "Shape of Data is (20000, 3072)\n",
            "==================================================\n",
            "Loading File ./cifar_10/cifar-10-batches-py/data_batch_3\n",
            "b'training batch 3 of 5'\n",
            "Geting Data\n",
            "Geting labels\n",
            "Shape of Data is (30000, 3072)\n",
            "==================================================\n",
            "Loading File ./cifar_10/cifar-10-batches-py/data_batch_4\n",
            "b'training batch 4 of 5'\n",
            "Geting Data\n",
            "Geting labels\n",
            "Shape of Data is (40000, 3072)\n",
            "==================================================\n",
            "Loading File ./cifar_10/cifar-10-batches-py/data_batch_5\n",
            "b'training batch 5 of 5'\n",
            "Geting Data\n",
            "Geting labels\n",
            "Shape of Data is (50000, 3072)\n",
            "==================================================\n"
          ],
          "name": "stdout"
        }
      ]
    },
    {
      "cell_type": "code",
      "metadata": {
        "colab": {
          "base_uri": "https://localhost:8080/"
        },
        "id": "9008aWLS_s20",
        "outputId": "3f3c37b9-ce29-44cc-bf55-918ef1d78f1f"
      },
      "source": [
        "# Reading Metadata\r\n",
        "label_meta = unpickle(os.path.join(datadir,'batches.meta'))[b'label_names']\r\n",
        "label_meta_mapping = {i:label_meta[i].decode('utf-8') for i in range(len(label_meta))}\r\n",
        "label_meta_mapping"
      ],
      "execution_count": 9,
      "outputs": [
        {
          "output_type": "execute_result",
          "data": {
            "text/plain": [
              "{0: 'airplane',\n",
              " 1: 'automobile',\n",
              " 2: 'bird',\n",
              " 3: 'cat',\n",
              " 4: 'deer',\n",
              " 5: 'dog',\n",
              " 6: 'frog',\n",
              " 7: 'horse',\n",
              " 8: 'ship',\n",
              " 9: 'truck'}"
            ]
          },
          "metadata": {
            "tags": []
          },
          "execution_count": 9
        }
      ]
    },
    {
      "cell_type": "code",
      "metadata": {
        "colab": {
          "base_uri": "https://localhost:8080/"
        },
        "id": "AcX-aCfmxmuM",
        "outputId": "0d2f1da5-b9d5-4ca6-a655-26b8aa7af87f"
      },
      "source": [
        "labels = np.array(labels)\r\n",
        "for i in range(0,10):\r\n",
        "  lb_count = np.sum((labels == i)*1)\r\n",
        "  print(f\"{label_meta_mapping[i]}: {lb_count}\")"
      ],
      "execution_count": 10,
      "outputs": [
        {
          "output_type": "stream",
          "text": [
            "airplane: 5000\n",
            "automobile: 5000\n",
            "bird: 5000\n",
            "cat: 5000\n",
            "deer: 5000\n",
            "dog: 5000\n",
            "frog: 5000\n",
            "horse: 5000\n",
            "ship: 5000\n",
            "truck: 5000\n"
          ],
          "name": "stdout"
        }
      ]
    },
    {
      "cell_type": "code",
      "metadata": {
        "colab": {
          "base_uri": "https://localhost:8080/"
        },
        "id": "c5nPHPfaHwAL",
        "outputId": "8da656ac-48e9-4041-a30d-1c79d3dc9d83"
      },
      "source": [
        "from tensorflow.keras.datasets import cifar10\r\n",
        "\r\n",
        "(train_X, train_y),(val_X,val_y) = cifar10.load_data()\r\n",
        "train_y = tf.keras.utils.to_categorical(train_y)\r\n",
        "val_y = tf.keras.utils.to_categorical(val_y)"
      ],
      "execution_count": 11,
      "outputs": [
        {
          "output_type": "stream",
          "text": [
            "Downloading data from https://www.cs.toronto.edu/~kriz/cifar-10-python.tar.gz\n",
            "170500096/170498071 [==============================] - 3s 0us/step\n"
          ],
          "name": "stdout"
        }
      ]
    },
    {
      "cell_type": "code",
      "metadata": {
        "id": "yZ5IvZ17Ksd3"
      },
      "source": [
        "data_rgb = np.reshape(data, (data.shape[0], 3, 32, 32)).transpose(0, 2, 3, 1)"
      ],
      "execution_count": 11,
      "outputs": []
    },
    {
      "cell_type": "code",
      "metadata": {
        "colab": {
          "base_uri": "https://localhost:8080/",
          "height": 343
        },
        "id": "UPuCiBVlYwQf",
        "outputId": "980d6356-5ab3-4e17-85ad-27f3bf134435"
      },
      "source": [
        "rnd_idx = np.random.randint(1,5000)\r\n",
        "fig, ax = plt.subplots(nrows=2, ncols=5, figsize=(12,6))\r\n",
        "for i in range(10):\r\n",
        "  samp = data_rgb[labels == i][rnd_idx,:,:,:]\r\n",
        "  ax[int(i/5)][i%5].imshow(samp)"
      ],
      "execution_count": 12,
      "outputs": [
        {
          "output_type": "display_data",
          "data": {
            "image/png": "[encoded data removed]",
            "text/plain": [
              "<Figure size 864x432 with 10 Axes>"
            ]
          },
          "metadata": {
            "tags": [],
            "needs_background": "light"
          }
        }
      ]
    },
    {
      "cell_type": "code",
      "metadata": {
        "id": "gmDrzXI5DPR3"
      },
      "source": [
        "def prep_pixels(data):\r\n",
        "  data_norm = data.astype('float32')\r\n",
        "\r\n",
        "  data_norm = data_norm / 255.0\r\n",
        "\r\n",
        "  return data_norm"
      ],
      "execution_count": 12,
      "outputs": []
    },
    {
      "cell_type": "code",
      "metadata": {
        "id": "yBmXv7AkD6fa"
      },
      "source": [
        "train_X = prep_pixels(train_X)\r\n",
        "val_X = prep_pixels(val_X)"
      ],
      "execution_count": 13,
      "outputs": []
    },
    {
      "cell_type": "code",
      "metadata": {
        "id": "F617ERavEIt8"
      },
      "source": [
        "labels_b = tf.keras.utils.to_categorical(labels)"
      ],
      "execution_count": 15,
      "outputs": []
    },
    {
      "cell_type": "code",
      "metadata": {
        "colab": {
          "base_uri": "https://localhost:8080/"
        },
        "id": "dlBd-n2wCnbj",
        "outputId": "3798ac37-6371-4089-b2f6-dbcd76a4c864"
      },
      "source": [
        "train_X, val_X, train_y, val_y = train_test_split(data_rgb_norm, labels_b, test_size=0.3)\r\n",
        "#test_X, val_X, test_y, val_y = train_test_split(test_X, test_y, test_size=0.7)\r\n",
        "print(f\"Training Data Size : {train_X.shape[0]}\")\r\n",
        "print(f\"Validation Data Size : {val_X.shape[0]}\")\r\n",
        "#print(f\"Testing Data Size : {test_X.shape[0]}\")"
      ],
      "execution_count": 16,
      "outputs": [
        {
          "output_type": "stream",
          "text": [
            "Training Data Size : 35000\n",
            "Validation Data Size : 15000\n"
          ],
          "name": "stdout"
        }
      ]
    },
    {
      "cell_type": "code",
      "metadata": {
        "id": "rtI_7kvJyEYl"
      },
      "source": [
        "model = models.Sequential()\r\n",
        "model.add(layers.Input(shape=train_X.shape[1:], batch_size=32))\r\n",
        "model.add(layers.Dense(3072, activation='elu'))\r\n",
        "model.add(layers.Dense(768, activation='elu'))\r\n",
        "model.add(layers.Dense(196, activation='elu'))\r\n",
        "model.add(layers.Dense(64, activation='elu'))\r\n",
        "model.add(layers.Dense(10, activation='sigmoid'))"
      ],
      "execution_count": null,
      "outputs": []
    },
    {
      "cell_type": "code",
      "metadata": {
        "id": "U3a8HBQOLesF"
      },
      "source": [
        "model.compile(optimizer='adam',\r\n",
        "              loss=tf.keras.losses.SparseCategoricalCrossentropy(from_logits=True),\r\n",
        "              metrics=['accuracy'])"
      ],
      "execution_count": null,
      "outputs": []
    },
    {
      "cell_type": "code",
      "metadata": {
        "colab": {
          "base_uri": "https://localhost:8080/"
        },
        "id": "42qZBhycG-Ov",
        "outputId": "ac443a02-4380-4b11-e88f-10475acdba18"
      },
      "source": [
        "model.summary()"
      ],
      "execution_count": null,
      "outputs": [
        {
          "output_type": "stream",
          "text": [
            "Model: \"sequential_10\"\n",
            "_________________________________________________________________\n",
            "Layer (type)                 Output Shape              Param #   \n",
            "=================================================================\n",
            "dense_47 (Dense)             (32, 3072)                9440256   \n",
            "_________________________________________________________________\n",
            "dense_48 (Dense)             (32, 768)                 2360064   \n",
            "_________________________________________________________________\n",
            "dense_49 (Dense)             (32, 196)                 150724    \n",
            "_________________________________________________________________\n",
            "dense_50 (Dense)             (32, 64)                  12608     \n",
            "_________________________________________________________________\n",
            "dense_51 (Dense)             (32, 10)                  650       \n",
            "=================================================================\n",
            "Total params: 11,964,302\n",
            "Trainable params: 11,964,302\n",
            "Non-trainable params: 0\n",
            "_________________________________________________________________\n"
          ],
          "name": "stdout"
        }
      ]
    },
    {
      "cell_type": "code",
      "metadata": {
        "colab": {
          "base_uri": "https://localhost:8080/"
        },
        "id": "nKCOyZofL9QH",
        "outputId": "7973de2c-646c-4a70-c946-cb88cbf2a81f"
      },
      "source": [
        "model.fit(x=train_X, y=train_y, batch_size=32, epochs=10, validation_data=(val_X, val_y), workers=-1,use_multiprocessing=True)"
      ],
      "execution_count": null,
      "outputs": [
        {
          "output_type": "stream",
          "text": [
            "Epoch 1/10\n",
            "1250/1250 [==============================] - 6s 4ms/step - loss: 2.4595 - accuracy: 0.2263 - val_loss: 1.7882 - val_accuracy: 0.3438\n",
            "Epoch 2/10\n",
            "1250/1250 [==============================] - 5s 4ms/step - loss: 1.8031 - accuracy: 0.3406 - val_loss: 1.7150 - val_accuracy: 0.3763\n",
            "Epoch 3/10\n",
            "1250/1250 [==============================] - 5s 4ms/step - loss: 1.7085 - accuracy: 0.3820 - val_loss: 1.6243 - val_accuracy: 0.4130\n",
            "Epoch 4/10\n",
            "1250/1250 [==============================] - 5s 4ms/step - loss: 1.6413 - accuracy: 0.4063 - val_loss: 1.5587 - val_accuracy: 0.4352\n",
            "Epoch 5/10\n",
            "1250/1250 [==============================] - 5s 4ms/step - loss: 1.5763 - accuracy: 0.4307 - val_loss: 1.5330 - val_accuracy: 0.4495\n",
            "Epoch 6/10\n",
            "1250/1250 [==============================] - 5s 4ms/step - loss: 1.5210 - accuracy: 0.4560 - val_loss: 1.5172 - val_accuracy: 0.4463\n",
            "Epoch 7/10\n",
            "1250/1250 [==============================] - 5s 4ms/step - loss: 1.5043 - accuracy: 0.4613 - val_loss: 1.4881 - val_accuracy: 0.4688\n",
            "Epoch 8/10\n",
            "1250/1250 [==============================] - 5s 4ms/step - loss: 1.4593 - accuracy: 0.4762 - val_loss: 1.4634 - val_accuracy: 0.4790\n",
            "Epoch 9/10\n",
            "1250/1250 [==============================] - 5s 4ms/step - loss: 1.4328 - accuracy: 0.4884 - val_loss: 1.4441 - val_accuracy: 0.4819\n",
            "Epoch 10/10\n",
            "1250/1250 [==============================] - 5s 4ms/step - loss: 1.3810 - accuracy: 0.5041 - val_loss: 1.4241 - val_accuracy: 0.4850\n"
          ],
          "name": "stdout"
        },
        {
          "output_type": "execute_result",
          "data": {
            "text/plain": [
              "<tensorflow.python.keras.callbacks.History at 0x7f8c2de9f438>"
            ]
          },
          "metadata": {
            "tags": []
          },
          "execution_count": 111
        }
      ]
    },
    {
      "cell_type": "code",
      "metadata": {
        "id": "Ahcl3XCAOH_W"
      },
      "source": [
        "def top_5_error_rate(predict_proba, y_true):\r\n",
        "  result = 0\r\n",
        "  for i in range(len(y_true)):\r\n",
        "    row = predict_proba[i,:]\r\n",
        "    top_5 = sorted(range(len(row)), key = lambda x: row[x], reverse=True)[:5]\r\n",
        "    if y_true[i] in top_5:\r\n",
        "      result = result + 1\r\n",
        "  \r\n",
        "  return result/len(y_true)"
      ],
      "execution_count": null,
      "outputs": []
    },
    {
      "cell_type": "code",
      "metadata": {
        "colab": {
          "base_uri": "https://localhost:8080/"
        },
        "id": "QTXGUCkQO0zs",
        "outputId": "0e80fb91-9a51-4f65-cc35-85744872099b"
      },
      "source": [
        "proba_train_X = model.predict(test_X)\r\n",
        "print(f'Accuracy Score : {model.evaluate(test_X, test_y)}')\r\n",
        "print(top_5_error_rate(proba_train_X, test_y))"
      ],
      "execution_count": null,
      "outputs": [
        {
          "output_type": "stream",
          "text": [
            "94/94 [==============================] - 0s 2ms/step - loss: 1.4332 - accuracy: 0.5017\n",
            "Accuracy Score : [1.4332008361816406, 0.5016622543334961]\n",
            "0.9163333333333333\n"
          ],
          "name": "stdout"
        }
      ]
    },
    {
      "cell_type": "code",
      "metadata": {
        "id": "FPy-x08_Rqrr"
      },
      "source": [
        "test_batch = unpickle(os.path.join(datadir,'test_batch'))\r\n",
        "test_data = test_batch[b'data']\r\n",
        "test_labels = test_batch[b'labels']"
      ],
      "execution_count": null,
      "outputs": []
    },
    {
      "cell_type": "code",
      "metadata": {
        "id": "QSbPOBk5T0iW"
      },
      "source": [
        "test_data = np.reshape(test_data, (test_data.shape[0], 3, 32, 32)).transpose(0, 2, 3, 1)"
      ],
      "execution_count": null,
      "outputs": []
    },
    {
      "cell_type": "code",
      "metadata": {
        "colab": {
          "base_uri": "https://localhost:8080/",
          "height": 284
        },
        "id": "eOnuDiESw_Pm",
        "outputId": "5f308dcb-03b6-456b-a3ee-c2d2be918802"
      },
      "source": [
        "idx = np.random.randint(200)\r\n",
        "plt.imshow(test_data[idx])\r\n",
        "label_meta_mapping[test_labels[idx]]"
      ],
      "execution_count": null,
      "outputs": [
        {
          "output_type": "execute_result",
          "data": {
            "application/vnd.google.colaboratory.intrinsic+json": {
              "type": "string"
            },
            "text/plain": [
              "'horse'"
            ]
          },
          "metadata": {
            "tags": []
          },
          "execution_count": 116
        },
        {
          "output_type": "display_data",
          "data": {
            "image/png": "[encoded data removed]",
            "text/plain": [
              "<Figure size 432x288 with 1 Axes>"
            ]
          },
          "metadata": {
            "tags": [],
            "needs_background": "light"
          }
        }
      ]
    },
    {
      "cell_type": "code",
      "metadata": {
        "colab": {
          "base_uri": "https://localhost:8080/"
        },
        "id": "jaY38UrkTpw9",
        "outputId": "102ede88-cbbd-496e-a0c9-b3794b1a0628"
      },
      "source": [
        "proba_train_X = model.predict(np.reshape(test_data, (test_data.shape[0], 3072))/255)\r\n",
        "print(f'Accuracy Score : {model.evaluate(np.reshape(test_data, (test_data.shape[0], 3072))/255, np.array(test_labels))}')\r\n",
        "print(top_5_error_rate(proba_train_X, test_labels))"
      ],
      "execution_count": null,
      "outputs": [
        {
          "output_type": "stream",
          "text": [
            "313/313 [==============================] - 1s 2ms/step - loss: 1.4188 - accuracy: 0.4946\n",
            "Accuracy Score : [1.4188294410705566, 0.49460864067077637]\n",
            "0.9177\n"
          ],
          "name": "stdout"
        }
      ]
    },
    {
      "cell_type": "code",
      "metadata": {
        "id": "hmuBgK4dFUUd"
      },
      "source": [
        "from tensorflow.keras.models import Sequential\r\n",
        "from tensorflow.keras.layers import Conv2D\r\n",
        "from tensorflow.keras.layers import Dense\r\n",
        "from tensorflow.keras.layers import MaxPooling2D\r\n",
        "from tensorflow.keras.layers import Flatten\r\n",
        "from tensorflow.keras.layers import Dropout\r\n",
        "from tensorflow.keras.layers import BatchNormalization\r\n",
        "from tensorflow.keras.optimizers import SGD"
      ],
      "execution_count": 14,
      "outputs": []
    },
    {
      "cell_type": "code",
      "metadata": {
        "id": "mr-G3bTZx2ew"
      },
      "source": [
        "def define_model(opt = 'adam',loss = 'categorical_crossentropy'):\r\n",
        "  model = Sequential()\r\n",
        "  model.add(Conv2D(32,(3,3), kernel_initializer='he_uniform', padding='same', input_shape=(32,32,3)))\r\n",
        "  model.add(BatchNormalization())\r\n",
        "  model.add(layers.Activation('relu'))\r\n",
        "  \r\n",
        "  model.add(Conv2D(32,(3,3),kernel_initializer='he_uniform', padding='same'))\r\n",
        "  model.add(BatchNormalization())\r\n",
        "  model.add(layers.Activation('relu'))\r\n",
        "  \r\n",
        "  model.add(MaxPooling2D(2,2))\r\n",
        "  model.add(Dropout(0.2))\r\n",
        "  \r\n",
        "  model.add(Conv2D(64,(3,3), kernel_initializer='he_uniform', padding='same'))\r\n",
        "  model.add(BatchNormalization())\r\n",
        "  model.add(layers.Activation('relu'))\r\n",
        "  \r\n",
        "  model.add(Conv2D(64,(3,3), kernel_initializer='he_uniform', padding='same'))\r\n",
        "  model.add(BatchNormalization())\r\n",
        "  model.add(layers.Activation('relu'))\r\n",
        "  \r\n",
        "  model.add(MaxPooling2D(2,2))\r\n",
        "  model.add(Dropout(0.3))\r\n",
        "  #model.add(BatchNormalization())\r\n",
        "  model.add(Conv2D(128,(3,3),kernel_initializer='he_uniform', padding='same'))\r\n",
        "  model.add(BatchNormalization())\r\n",
        "  model.add(layers.Activation('relu'))\r\n",
        "  \r\n",
        "  model.add(Conv2D(128,(3,3),kernel_initializer='he_uniform', padding='same'))\r\n",
        "  model.add(BatchNormalization())\r\n",
        "  model.add(layers.Activation('relu'))\r\n",
        "  \r\n",
        "  model.add(MaxPooling2D(2,2))\r\n",
        "  model.add(Dropout(0.4))\r\n",
        "  #model.add(BatchNormalization())\r\n",
        "  model.add(Flatten())\r\n",
        "  model.add(Dense(128, kernel_initializer='he_uniform'))\r\n",
        "  model.add(BatchNormalization())\r\n",
        "  model.add(layers.Activation('relu'))\r\n",
        "  \r\n",
        "  model.add(Dropout(0.5))\r\n",
        "  model.add(Dense(10, activation='softmax'))\r\n",
        "\r\n",
        "  model.compile(optimizer=opt, loss=loss, metrics = ['accuracy'])\r\n",
        "  print(model.summary())\r\n",
        "  return model"
      ],
      "execution_count": 19,
      "outputs": []
    },
    {
      "cell_type": "code",
      "metadata": {
        "colab": {
          "base_uri": "https://localhost:8080/"
        },
        "id": "-O4Ik0NCHmv1",
        "outputId": "6ed7a41e-b06f-4bba-e1db-5223522d9800"
      },
      "source": [
        "model = define_model()\r\n"
      ],
      "execution_count": 20,
      "outputs": [
        {
          "output_type": "stream",
          "text": [
            "Model: \"sequential_2\"\n",
            "_________________________________________________________________\n",
            "Layer (type)                 Output Shape              Param #   \n",
            "=================================================================\n",
            "conv2d_3 (Conv2D)            (None, 32, 32, 32)        896       \n",
            "_________________________________________________________________\n",
            "batch_normalization_3 (Batch (None, 32, 32, 32)        128       \n",
            "_________________________________________________________________\n",
            "activation_1 (Activation)    (None, 32, 32, 32)        0         \n",
            "_________________________________________________________________\n",
            "conv2d_4 (Conv2D)            (None, 32, 32, 32)        9248      \n",
            "_________________________________________________________________\n",
            "batch_normalization_4 (Batch (None, 32, 32, 32)        128       \n",
            "_________________________________________________________________\n",
            "activation_2 (Activation)    (None, 32, 32, 32)        0         \n",
            "_________________________________________________________________\n",
            "max_pooling2d (MaxPooling2D) (None, 16, 16, 32)        0         \n",
            "_________________________________________________________________\n",
            "dropout (Dropout)            (None, 16, 16, 32)        0         \n",
            "_________________________________________________________________\n",
            "conv2d_5 (Conv2D)            (None, 16, 16, 64)        18496     \n",
            "_________________________________________________________________\n",
            "batch_normalization_5 (Batch (None, 16, 16, 64)        256       \n",
            "_________________________________________________________________\n",
            "activation_3 (Activation)    (None, 16, 16, 64)        0         \n",
            "_________________________________________________________________\n",
            "conv2d_6 (Conv2D)            (None, 16, 16, 64)        36928     \n",
            "_________________________________________________________________\n",
            "batch_normalization_6 (Batch (None, 16, 16, 64)        256       \n",
            "_________________________________________________________________\n",
            "activation_4 (Activation)    (None, 16, 16, 64)        0         \n",
            "_________________________________________________________________\n",
            "max_pooling2d_1 (MaxPooling2 (None, 8, 8, 64)          0         \n",
            "_________________________________________________________________\n",
            "dropout_1 (Dropout)          (None, 8, 8, 64)          0         \n",
            "_________________________________________________________________\n",
            "conv2d_7 (Conv2D)            (None, 8, 8, 128)         73856     \n",
            "_________________________________________________________________\n",
            "batch_normalization_7 (Batch (None, 8, 8, 128)         512       \n",
            "_________________________________________________________________\n",
            "activation_5 (Activation)    (None, 8, 8, 128)         0         \n",
            "_________________________________________________________________\n",
            "conv2d_8 (Conv2D)            (None, 8, 8, 128)         147584    \n",
            "_________________________________________________________________\n",
            "batch_normalization_8 (Batch (None, 8, 8, 128)         512       \n",
            "_________________________________________________________________\n",
            "activation_6 (Activation)    (None, 8, 8, 128)         0         \n",
            "_________________________________________________________________\n",
            "max_pooling2d_2 (MaxPooling2 (None, 4, 4, 128)         0         \n",
            "_________________________________________________________________\n",
            "dropout_2 (Dropout)          (None, 4, 4, 128)         0         \n",
            "_________________________________________________________________\n",
            "flatten (Flatten)            (None, 2048)              0         \n",
            "_________________________________________________________________\n",
            "dense (Dense)                (None, 128)               262272    \n",
            "_________________________________________________________________\n",
            "batch_normalization_9 (Batch (None, 128)               512       \n",
            "_________________________________________________________________\n",
            "activation_7 (Activation)    (None, 128)               0         \n",
            "_________________________________________________________________\n",
            "dropout_3 (Dropout)          (None, 128)               0         \n",
            "_________________________________________________________________\n",
            "dense_1 (Dense)              (None, 10)                1290      \n",
            "=================================================================\n",
            "Total params: 552,874\n",
            "Trainable params: 551,722\n",
            "Non-trainable params: 1,152\n",
            "_________________________________________________________________\n",
            "None\n"
          ],
          "name": "stdout"
        }
      ]
    },
    {
      "cell_type": "code",
      "metadata": {
        "colab": {
          "base_uri": "https://localhost:8080/"
        },
        "id": "5xJ-HPWeH75o",
        "outputId": "c231c0d4-d39d-402e-811d-265cd035df63"
      },
      "source": [
        "history = model.fit(train_X, train_y, epochs=100, batch_size=128, validation_data=(val_X,val_y), verbose=1)\r\n",
        "_,acc= model.evaluate(val_X,val_y, verbose=0)\r\n",
        "print('> %.3f' % (acc * 100.0))"
      ],
      "execution_count": 21,
      "outputs": [
        {
          "output_type": "stream",
          "text": [
            "Epoch 1/100\n",
            "391/391 [==============================] - 14s 17ms/step - loss: 1.9704 - accuracy: 0.3148 - val_loss: 1.3829 - val_accuracy: 0.5091\n",
            "Epoch 2/100\n",
            "391/391 [==============================] - 6s 15ms/step - loss: 1.2877 - accuracy: 0.5364 - val_loss: 1.1687 - val_accuracy: 0.5855\n",
            "Epoch 3/100\n",
            "391/391 [==============================] - 6s 15ms/step - loss: 1.0436 - accuracy: 0.6302 - val_loss: 0.8575 - val_accuracy: 0.6906\n",
            "Epoch 4/100\n",
            "391/391 [==============================] - 6s 15ms/step - loss: 0.9066 - accuracy: 0.6797 - val_loss: 0.9232 - val_accuracy: 0.6848\n",
            "Epoch 5/100\n",
            "391/391 [==============================] - 6s 15ms/step - loss: 0.8286 - accuracy: 0.7113 - val_loss: 0.7176 - val_accuracy: 0.7503\n",
            "Epoch 6/100\n",
            "391/391 [==============================] - 6s 15ms/step - loss: 0.7615 - accuracy: 0.7345 - val_loss: 0.7710 - val_accuracy: 0.7304\n",
            "Epoch 7/100\n",
            "391/391 [==============================] - 6s 15ms/step - loss: 0.7132 - accuracy: 0.7518 - val_loss: 0.6943 - val_accuracy: 0.7628\n",
            "Epoch 8/100\n",
            "391/391 [==============================] - 6s 15ms/step - loss: 0.6717 - accuracy: 0.7691 - val_loss: 0.6564 - val_accuracy: 0.7730\n",
            "Epoch 9/100\n",
            "391/391 [==============================] - 6s 15ms/step - loss: 0.6256 - accuracy: 0.7840 - val_loss: 0.6282 - val_accuracy: 0.7799\n",
            "Epoch 10/100\n",
            "391/391 [==============================] - 6s 15ms/step - loss: 0.6057 - accuracy: 0.7916 - val_loss: 0.5759 - val_accuracy: 0.8023\n",
            "Epoch 11/100\n",
            "391/391 [==============================] - 6s 15ms/step - loss: 0.5656 - accuracy: 0.8057 - val_loss: 0.5284 - val_accuracy: 0.8156\n",
            "Epoch 12/100\n",
            "391/391 [==============================] - 6s 15ms/step - loss: 0.5417 - accuracy: 0.8129 - val_loss: 0.5273 - val_accuracy: 0.8185\n",
            "Epoch 13/100\n",
            "391/391 [==============================] - 6s 16ms/step - loss: 0.5189 - accuracy: 0.8218 - val_loss: 0.5409 - val_accuracy: 0.8137\n",
            "Epoch 14/100\n",
            "391/391 [==============================] - 6s 15ms/step - loss: 0.4960 - accuracy: 0.8299 - val_loss: 0.5913 - val_accuracy: 0.8041\n",
            "Epoch 15/100\n",
            "391/391 [==============================] - 6s 15ms/step - loss: 0.4815 - accuracy: 0.8329 - val_loss: 0.5958 - val_accuracy: 0.8039\n",
            "Epoch 16/100\n",
            "391/391 [==============================] - 6s 16ms/step - loss: 0.4582 - accuracy: 0.8407 - val_loss: 0.5395 - val_accuracy: 0.8221\n",
            "Epoch 17/100\n",
            "391/391 [==============================] - 6s 16ms/step - loss: 0.4416 - accuracy: 0.8481 - val_loss: 0.4754 - val_accuracy: 0.8338\n",
            "Epoch 18/100\n",
            "391/391 [==============================] - 6s 16ms/step - loss: 0.4212 - accuracy: 0.8539 - val_loss: 0.4973 - val_accuracy: 0.8318\n",
            "Epoch 19/100\n",
            "391/391 [==============================] - 6s 16ms/step - loss: 0.4075 - accuracy: 0.8595 - val_loss: 0.5181 - val_accuracy: 0.8284\n",
            "Epoch 20/100\n",
            "391/391 [==============================] - 6s 16ms/step - loss: 0.3944 - accuracy: 0.8643 - val_loss: 0.4790 - val_accuracy: 0.8412\n",
            "Epoch 21/100\n",
            "391/391 [==============================] - 6s 16ms/step - loss: 0.3899 - accuracy: 0.8662 - val_loss: 0.5578 - val_accuracy: 0.8133\n",
            "Epoch 22/100\n",
            "391/391 [==============================] - 6s 16ms/step - loss: 0.3788 - accuracy: 0.8712 - val_loss: 0.4535 - val_accuracy: 0.8464\n",
            "Epoch 23/100\n",
            "391/391 [==============================] - 6s 16ms/step - loss: 0.3646 - accuracy: 0.8719 - val_loss: 0.4794 - val_accuracy: 0.8426\n",
            "Epoch 24/100\n",
            "391/391 [==============================] - 6s 16ms/step - loss: 0.3643 - accuracy: 0.8742 - val_loss: 0.4660 - val_accuracy: 0.8420\n",
            "Epoch 25/100\n",
            "391/391 [==============================] - 6s 16ms/step - loss: 0.3523 - accuracy: 0.8764 - val_loss: 0.4664 - val_accuracy: 0.8456\n",
            "Epoch 26/100\n",
            "391/391 [==============================] - 6s 16ms/step - loss: 0.3460 - accuracy: 0.8839 - val_loss: 0.4865 - val_accuracy: 0.8403\n",
            "Epoch 27/100\n",
            "391/391 [==============================] - 6s 16ms/step - loss: 0.3291 - accuracy: 0.8859 - val_loss: 0.5677 - val_accuracy: 0.8217\n",
            "Epoch 28/100\n",
            "391/391 [==============================] - 6s 16ms/step - loss: 0.3258 - accuracy: 0.8885 - val_loss: 0.4210 - val_accuracy: 0.8589\n",
            "Epoch 29/100\n",
            "391/391 [==============================] - 6s 16ms/step - loss: 0.3072 - accuracy: 0.8935 - val_loss: 0.5283 - val_accuracy: 0.8334\n",
            "Epoch 30/100\n",
            "391/391 [==============================] - 6s 16ms/step - loss: 0.3052 - accuracy: 0.8930 - val_loss: 0.4852 - val_accuracy: 0.8475\n",
            "Epoch 31/100\n",
            "391/391 [==============================] - 6s 16ms/step - loss: 0.2997 - accuracy: 0.8934 - val_loss: 0.4754 - val_accuracy: 0.8449\n",
            "Epoch 32/100\n",
            "391/391 [==============================] - 6s 16ms/step - loss: 0.2990 - accuracy: 0.8954 - val_loss: 0.4521 - val_accuracy: 0.8522\n",
            "Epoch 33/100\n",
            "391/391 [==============================] - 6s 16ms/step - loss: 0.2870 - accuracy: 0.9005 - val_loss: 0.4528 - val_accuracy: 0.8534\n",
            "Epoch 34/100\n",
            "391/391 [==============================] - 6s 16ms/step - loss: 0.2889 - accuracy: 0.8977 - val_loss: 0.4744 - val_accuracy: 0.8456\n",
            "Epoch 35/100\n",
            "391/391 [==============================] - 6s 16ms/step - loss: 0.2754 - accuracy: 0.9053 - val_loss: 0.4991 - val_accuracy: 0.8429\n",
            "Epoch 36/100\n",
            "391/391 [==============================] - 6s 16ms/step - loss: 0.2761 - accuracy: 0.9041 - val_loss: 0.5002 - val_accuracy: 0.8464\n",
            "Epoch 37/100\n",
            "391/391 [==============================] - 6s 16ms/step - loss: 0.2716 - accuracy: 0.9036 - val_loss: 0.4289 - val_accuracy: 0.8598\n",
            "Epoch 38/100\n",
            "391/391 [==============================] - 6s 16ms/step - loss: 0.2620 - accuracy: 0.9096 - val_loss: 0.4549 - val_accuracy: 0.8548\n",
            "Epoch 39/100\n",
            "391/391 [==============================] - 6s 16ms/step - loss: 0.2536 - accuracy: 0.9123 - val_loss: 0.4390 - val_accuracy: 0.8642\n",
            "Epoch 40/100\n",
            "391/391 [==============================] - 6s 16ms/step - loss: 0.2650 - accuracy: 0.9063 - val_loss: 0.4294 - val_accuracy: 0.8631\n",
            "Epoch 41/100\n",
            "391/391 [==============================] - 6s 16ms/step - loss: 0.2506 - accuracy: 0.9135 - val_loss: 0.4419 - val_accuracy: 0.8623\n",
            "Epoch 42/100\n",
            "391/391 [==============================] - 6s 16ms/step - loss: 0.2553 - accuracy: 0.9121 - val_loss: 0.4272 - val_accuracy: 0.8671\n",
            "Epoch 43/100\n",
            "391/391 [==============================] - 6s 16ms/step - loss: 0.2489 - accuracy: 0.9137 - val_loss: 0.4507 - val_accuracy: 0.8611\n",
            "Epoch 44/100\n",
            "391/391 [==============================] - 6s 16ms/step - loss: 0.2387 - accuracy: 0.9158 - val_loss: 0.4271 - val_accuracy: 0.8668\n",
            "Epoch 45/100\n",
            "391/391 [==============================] - 6s 16ms/step - loss: 0.2362 - accuracy: 0.9162 - val_loss: 0.4796 - val_accuracy: 0.8564\n",
            "Epoch 46/100\n",
            "391/391 [==============================] - 6s 16ms/step - loss: 0.2429 - accuracy: 0.9157 - val_loss: 0.4793 - val_accuracy: 0.8571\n",
            "Epoch 47/100\n",
            "391/391 [==============================] - 6s 16ms/step - loss: 0.2369 - accuracy: 0.9161 - val_loss: 0.4796 - val_accuracy: 0.8562\n",
            "Epoch 48/100\n",
            "391/391 [==============================] - 6s 16ms/step - loss: 0.2284 - accuracy: 0.9197 - val_loss: 0.4462 - val_accuracy: 0.8662\n",
            "Epoch 49/100\n",
            "391/391 [==============================] - 6s 16ms/step - loss: 0.2262 - accuracy: 0.9209 - val_loss: 0.4843 - val_accuracy: 0.8567\n",
            "Epoch 50/100\n",
            "391/391 [==============================] - 6s 16ms/step - loss: 0.2167 - accuracy: 0.9240 - val_loss: 0.4400 - val_accuracy: 0.8651\n",
            "Epoch 51/100\n",
            "391/391 [==============================] - 6s 16ms/step - loss: 0.2189 - accuracy: 0.9243 - val_loss: 0.4491 - val_accuracy: 0.8662\n",
            "Epoch 52/100\n",
            "391/391 [==============================] - 6s 16ms/step - loss: 0.2235 - accuracy: 0.9238 - val_loss: 0.5043 - val_accuracy: 0.8507\n",
            "Epoch 53/100\n",
            "391/391 [==============================] - 6s 16ms/step - loss: 0.2135 - accuracy: 0.9253 - val_loss: 0.4488 - val_accuracy: 0.8672\n",
            "Epoch 54/100\n",
            "391/391 [==============================] - 6s 16ms/step - loss: 0.2113 - accuracy: 0.9250 - val_loss: 0.4446 - val_accuracy: 0.8629\n",
            "Epoch 55/100\n",
            "391/391 [==============================] - 6s 16ms/step - loss: 0.2075 - accuracy: 0.9271 - val_loss: 0.4794 - val_accuracy: 0.8529\n",
            "Epoch 56/100\n",
            "391/391 [==============================] - 6s 16ms/step - loss: 0.2070 - accuracy: 0.9270 - val_loss: 0.4454 - val_accuracy: 0.8677\n",
            "Epoch 57/100\n",
            "391/391 [==============================] - 6s 16ms/step - loss: 0.2097 - accuracy: 0.9271 - val_loss: 0.5272 - val_accuracy: 0.8446\n",
            "Epoch 58/100\n",
            "391/391 [==============================] - 6s 16ms/step - loss: 0.2087 - accuracy: 0.9262 - val_loss: 0.4858 - val_accuracy: 0.8545\n",
            "Epoch 59/100\n",
            "391/391 [==============================] - 6s 16ms/step - loss: 0.2010 - accuracy: 0.9294 - val_loss: 0.4628 - val_accuracy: 0.8624\n",
            "Epoch 60/100\n",
            "391/391 [==============================] - 6s 16ms/step - loss: 0.2053 - accuracy: 0.9284 - val_loss: 0.6072 - val_accuracy: 0.8362\n",
            "Epoch 61/100\n",
            "391/391 [==============================] - 6s 16ms/step - loss: 0.2006 - accuracy: 0.9283 - val_loss: 0.5231 - val_accuracy: 0.8476\n",
            "Epoch 62/100\n",
            "391/391 [==============================] - 6s 16ms/step - loss: 0.2009 - accuracy: 0.9291 - val_loss: 0.5034 - val_accuracy: 0.8534\n",
            "Epoch 63/100\n",
            "391/391 [==============================] - 6s 16ms/step - loss: 0.2024 - accuracy: 0.9288 - val_loss: 0.4417 - val_accuracy: 0.8681\n",
            "Epoch 64/100\n",
            "391/391 [==============================] - 6s 16ms/step - loss: 0.1887 - accuracy: 0.9325 - val_loss: 0.4408 - val_accuracy: 0.8712\n",
            "Epoch 65/100\n",
            "391/391 [==============================] - 6s 16ms/step - loss: 0.1900 - accuracy: 0.9331 - val_loss: 0.4572 - val_accuracy: 0.8659\n",
            "Epoch 66/100\n",
            "391/391 [==============================] - 6s 16ms/step - loss: 0.1915 - accuracy: 0.9339 - val_loss: 0.4793 - val_accuracy: 0.8600\n",
            "Epoch 67/100\n",
            "391/391 [==============================] - 6s 16ms/step - loss: 0.1943 - accuracy: 0.9318 - val_loss: 0.5205 - val_accuracy: 0.8509\n",
            "Epoch 68/100\n",
            "391/391 [==============================] - 6s 16ms/step - loss: 0.1946 - accuracy: 0.9318 - val_loss: 0.4741 - val_accuracy: 0.8669\n",
            "Epoch 69/100\n",
            "391/391 [==============================] - 6s 16ms/step - loss: 0.1931 - accuracy: 0.9329 - val_loss: 0.5041 - val_accuracy: 0.8620\n",
            "Epoch 70/100\n",
            "391/391 [==============================] - 6s 16ms/step - loss: 0.1865 - accuracy: 0.9353 - val_loss: 0.4978 - val_accuracy: 0.8628\n",
            "Epoch 71/100\n",
            "391/391 [==============================] - 6s 16ms/step - loss: 0.1836 - accuracy: 0.9356 - val_loss: 0.4415 - val_accuracy: 0.8700\n",
            "Epoch 72/100\n",
            "391/391 [==============================] - 6s 16ms/step - loss: 0.1842 - accuracy: 0.9351 - val_loss: 0.4591 - val_accuracy: 0.8692\n",
            "Epoch 73/100\n",
            "391/391 [==============================] - 6s 16ms/step - loss: 0.1791 - accuracy: 0.9375 - val_loss: 0.5070 - val_accuracy: 0.8630\n",
            "Epoch 74/100\n",
            "391/391 [==============================] - 6s 16ms/step - loss: 0.1827 - accuracy: 0.9364 - val_loss: 0.4546 - val_accuracy: 0.8710\n",
            "Epoch 75/100\n",
            "391/391 [==============================] - 6s 16ms/step - loss: 0.1775 - accuracy: 0.9384 - val_loss: 0.4690 - val_accuracy: 0.8658\n",
            "Epoch 76/100\n",
            "391/391 [==============================] - 6s 16ms/step - loss: 0.1736 - accuracy: 0.9394 - val_loss: 0.4246 - val_accuracy: 0.8734\n",
            "Epoch 77/100\n",
            "391/391 [==============================] - 6s 16ms/step - loss: 0.1738 - accuracy: 0.9391 - val_loss: 0.4799 - val_accuracy: 0.8633\n",
            "Epoch 78/100\n",
            "391/391 [==============================] - 6s 16ms/step - loss: 0.1781 - accuracy: 0.9379 - val_loss: 0.4810 - val_accuracy: 0.8656\n",
            "Epoch 79/100\n",
            "391/391 [==============================] - 6s 16ms/step - loss: 0.1730 - accuracy: 0.9387 - val_loss: 0.4512 - val_accuracy: 0.8714\n",
            "Epoch 80/100\n",
            "391/391 [==============================] - 6s 16ms/step - loss: 0.1685 - accuracy: 0.9407 - val_loss: 0.4767 - val_accuracy: 0.8695\n",
            "Epoch 81/100\n",
            "391/391 [==============================] - 6s 16ms/step - loss: 0.1750 - accuracy: 0.9401 - val_loss: 0.4904 - val_accuracy: 0.8617\n",
            "Epoch 82/100\n",
            "391/391 [==============================] - 6s 16ms/step - loss: 0.1698 - accuracy: 0.9414 - val_loss: 0.5174 - val_accuracy: 0.8582\n",
            "Epoch 83/100\n",
            "391/391 [==============================] - 6s 16ms/step - loss: 0.1632 - accuracy: 0.9429 - val_loss: 0.4597 - val_accuracy: 0.8701\n",
            "Epoch 84/100\n",
            "391/391 [==============================] - 6s 16ms/step - loss: 0.1660 - accuracy: 0.9418 - val_loss: 0.5067 - val_accuracy: 0.8614\n",
            "Epoch 85/100\n",
            "391/391 [==============================] - 6s 16ms/step - loss: 0.1678 - accuracy: 0.9420 - val_loss: 0.4922 - val_accuracy: 0.8625\n",
            "Epoch 86/100\n",
            "391/391 [==============================] - 6s 16ms/step - loss: 0.1641 - accuracy: 0.9447 - val_loss: 0.4370 - val_accuracy: 0.8771\n",
            "Epoch 87/100\n",
            "391/391 [==============================] - 6s 16ms/step - loss: 0.1624 - accuracy: 0.9431 - val_loss: 0.4762 - val_accuracy: 0.8676\n",
            "Epoch 88/100\n",
            "391/391 [==============================] - 6s 16ms/step - loss: 0.1561 - accuracy: 0.9460 - val_loss: 0.4803 - val_accuracy: 0.8664\n",
            "Epoch 89/100\n",
            "391/391 [==============================] - 6s 16ms/step - loss: 0.1635 - accuracy: 0.9429 - val_loss: 0.5071 - val_accuracy: 0.8629\n",
            "Epoch 90/100\n",
            "391/391 [==============================] - 6s 16ms/step - loss: 0.1614 - accuracy: 0.9441 - val_loss: 0.5237 - val_accuracy: 0.8607\n",
            "Epoch 91/100\n",
            "391/391 [==============================] - 6s 16ms/step - loss: 0.1604 - accuracy: 0.9438 - val_loss: 0.5049 - val_accuracy: 0.8621\n",
            "Epoch 92/100\n",
            "391/391 [==============================] - 6s 16ms/step - loss: 0.1624 - accuracy: 0.9443 - val_loss: 0.4606 - val_accuracy: 0.8727\n",
            "Epoch 93/100\n",
            "391/391 [==============================] - 6s 16ms/step - loss: 0.1554 - accuracy: 0.9465 - val_loss: 0.5299 - val_accuracy: 0.8552\n",
            "Epoch 94/100\n",
            "391/391 [==============================] - 6s 16ms/step - loss: 0.1561 - accuracy: 0.9459 - val_loss: 0.4532 - val_accuracy: 0.8773\n",
            "Epoch 95/100\n",
            "391/391 [==============================] - 6s 16ms/step - loss: 0.1517 - accuracy: 0.9476 - val_loss: 0.4737 - val_accuracy: 0.8731\n",
            "Epoch 96/100\n",
            "391/391 [==============================] - 6s 16ms/step - loss: 0.1581 - accuracy: 0.9441 - val_loss: 0.4810 - val_accuracy: 0.8724\n",
            "Epoch 97/100\n",
            "391/391 [==============================] - 6s 16ms/step - loss: 0.1547 - accuracy: 0.9440 - val_loss: 0.4596 - val_accuracy: 0.8749\n",
            "Epoch 98/100\n",
            "391/391 [==============================] - 6s 16ms/step - loss: 0.1545 - accuracy: 0.9462 - val_loss: 0.5187 - val_accuracy: 0.8659\n",
            "Epoch 99/100\n",
            "391/391 [==============================] - 6s 16ms/step - loss: 0.1556 - accuracy: 0.9458 - val_loss: 0.4946 - val_accuracy: 0.8653\n",
            "Epoch 100/100\n",
            "391/391 [==============================] - 6s 16ms/step - loss: 0.1461 - accuracy: 0.9494 - val_loss: 0.4630 - val_accuracy: 0.8747\n",
            "> 87.470\n"
          ],
          "name": "stdout"
        }
      ]
    }
  ]
}